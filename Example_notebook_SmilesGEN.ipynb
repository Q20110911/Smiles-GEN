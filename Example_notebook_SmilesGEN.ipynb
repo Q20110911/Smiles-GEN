{
 "cells": [
  {
   "cell_type": "markdown",
   "metadata": {},
   "source": [
    "### License\n",
    "\n",
    "Copyright 2019 Ruud van Deursen, Firmenich SA.\n",
    "\n",
    "Redistribution and use in source and binary forms, with or without modification, are permitted provided that the following conditions are met:\n",
    "\n",
    "1. Redistributions of source code must retain the above copyright notice, this list of conditions and the following disclaimer.\n",
    "\n",
    "2. Redistributions in binary form must reproduce the above copyright notice, this list of conditions and the following disclaimer in the documentation and/or other materials provided with the distribution.\n",
    "\n",
    "3. Neither the name of the copyright holder nor the names of its contributors may be used to endorse or promote products derived from this software without specific prior written permission.\n",
    "\n",
    "THIS SOFTWARE IS PROVIDED BY THE COPYRIGHT HOLDERS AND CONTRIBUTORS \"AS IS\" AND ANY EXPRESS OR IMPLIED WARRANTIES, INCLUDING, BUT NOT LIMITED TO, THE IMPLIED WARRANTIES OF MERCHANTABILITY AND FITNESS FOR A PARTICULAR PURPOSE ARE DISCLAIMED. IN NO EVENT SHALL THE COPYRIGHT HOLDER OR CONTRIBUTORS BE LIABLE FOR ANY DIRECT, INDIRECT, INCIDENTAL, SPECIAL, EXEMPLARY, OR CONSEQUENTIAL DAMAGES (INCLUDING, BUT NOT LIMITED TO, PROCUREMENT OF SUBSTITUTE GOODS OR SERVICES; LOSS OF USE, DATA, OR PROFITS; OR BUSINESS INTERRUPTION) HOWEVER CAUSED AND ON ANY THEORY OF LIABILITY, WHETHER IN CONTRACT, STRICT LIABILITY, OR TORT (INCLUDING NEGLIGENCE OR OTHERWISE) ARISING IN ANY WAY OUT OF THE USE OF THIS SOFTWARE, EVEN IF ADVISED OF THE POSSIBILITY OF SUCH DAMAGE."
   ]
  },
  {
   "cell_type": "markdown",
   "metadata": {},
   "source": [
    "### Example notebook Smiles-GEN using Chembl\n",
    "\n",
    "In this notebook a generative model is trained to generate SMILES for a subset of Chembl. This notebook is an example notebook associated to the publication as mentioned in the github repository."
   ]
  },
  {
   "cell_type": "code",
   "execution_count": null,
   "metadata": {},
   "outputs": [],
   "source": [
    "#!pip install livelossplot\n",
    "from SmilesGEN_utils_fixed import DataUtils\n",
    "import keras.backend as K\n",
    "from SmilesGEN_bilstm_lstm_multi_encoding import *\n",
    "import tensorflow as tf\n",
    "from numpy import arange\n",
    "from rdkit.Chem import MolFromSmiles,MolToSmiles\n",
    "config = None"
   ]
  },
  {
   "cell_type": "code",
   "execution_count": null,
   "metadata": {},
   "outputs": [],
   "source": [
    "def IsValidMolecule(smi):\n",
    "    try:\n",
    "        return MolFromSmiles(smi).GetNumAtoms()>0\n",
    "    except:\n",
    "        return False\n",
    "    \n",
    "def augment(smi,naug=10):\n",
    "    try:\n",
    "        mol = MolFromSmiles(smi)\n",
    "        return set([smi if idx == 0 else MolToSmiles(mol,doRandom=True,canonical=False) for idx in range(naug)])\n",
    "    except:\n",
    "        return set()"
   ]
  },
  {
   "cell_type": "markdown",
   "metadata": {},
   "source": [
    "### Memory block"
   ]
  },
  {
   "cell_type": "code",
   "execution_count": null,
   "metadata": {},
   "outputs": [],
   "source": [
    "if config is None:\n",
    "    config = tf.ConfigProto()\n",
    "    config.gpu_options.allow_growth = True\n",
    "    config.log_device_placement = True\n",
    "    sess = tf.Session(config=config)\n",
    "    K.set_session(sess)"
   ]
  },
  {
   "cell_type": "markdown",
   "metadata": {},
   "source": [
    "### Prepare the data\n",
    "\n",
    "Select the datasets, set the preparation and compute X,Y to fit the model."
   ]
  },
  {
   "cell_type": "code",
   "execution_count": null,
   "metadata": {},
   "outputs": [],
   "source": [
    "# Read the data and setup Utils\n",
    "trainingset = \"<your_dataset.smi>\"\n",
    "Utils = DataUtils(maxlen=42,step=3)\n",
    "\n",
    "# Prepare data with an augmentation method\n",
    "text = Utils.Prepare(trainingset,augment=augment,naug=10)\n",
    "print(\"Corpus length: %s\"%(len(text)))\n",
    "print(\"Total chars %s\"%(len(Utils.chars)))\n",
    "\n",
    "# Translate to X,Y and get maxlen observed\n",
    "# We take the computed maxlen, because\n",
    "# this max very on the dataset used.\n",
    "X,y,maxlen = Utils.Encode(text)"
   ]
  },
  {
   "cell_type": "markdown",
   "metadata": {},
   "source": [
    "### Make and train the model"
   ]
  },
  {
   "cell_type": "code",
   "execution_count": null,
   "metadata": {},
   "outputs": [],
   "source": [
    "num_iterations,batch_size = 80,256\n",
    "def TestModel(Utils,l1=64,l2=64,Bidirectional=[True,True],nmodels=4,merge=0):\n",
    "    model_setup = BaseModel(Utils,Layers=[l1,l2],Bidirectional=Bidirectional,minimodels=nmodels,merge=merge)\n",
    "    model = model_setup.Init(verbose=True)\n",
    "    return model_setup\n",
    "\n",
    "# Define num iterations\n",
    "def RunModel(model_setup,filepath,verbose=0,minimum=.95,pat=10):\n",
    "    logfile = \"%s.csv\"%(filepath[:filepath.index(\"-cuda5\")])\n",
    "    trainer = model_setup.InitTrainer(sanitycheck=IsValidMolecule,verbose=True,minimum=minimum,patience=pat)\n",
    "    model,history = trainer.Fit(X,y,filepath,logfile,num_epochs=num_iterations,batch_size=batch_size,\n",
    "                                mycallbacks=[],verbose=verbose)\n",
    "    return (model,history)"
   ]
  },
  {
   "cell_type": "code",
   "execution_count": null,
   "metadata": {
    "scrolled": false
   },
   "outputs": [],
   "source": [
    "l1,l2 = 128,64\n",
    "b1,b2 = True,False\n",
    "model_setup = TestModel(Utils,l1=l1,l2=l2,Bidirectional=[b1,b2])"
   ]
  },
  {
   "cell_type": "code",
   "execution_count": null,
   "metadata": {
    "scrolled": false
   },
   "outputs": [],
   "source": [
    "runno = 1\n",
    "filepath = \"models/Chembl_45k_bilstm_4x-lstm-%s-%s-merge-0-run-%s-cuda5-sg-{epoch:03d}-{loss:.4f}.hdf5\"%(l1,l2,runno)\n",
    "models,history = RunModel(model_setup,filepath,verbose=1)    "
   ]
  },
  {
   "cell_type": "code",
   "execution_count": null,
   "metadata": {},
   "outputs": [],
   "source": [
    "runno = 2\n",
    "filepath = \"models/Chembl_45k_bilstm_4x-lstm-%s-%s-merge-0-run-%s-cuda5-sg-{epoch:03d}-{loss:.4f}.hdf5\"%(l1,l2,runno)\n",
    "models,history = RunModel(model_setup,filepath,verbose=1)    "
   ]
  },
  {
   "cell_type": "code",
   "execution_count": null,
   "metadata": {},
   "outputs": [],
   "source": [
    "runno = 3\n",
    "filepath = \"models/Chembl_45k_bilstm_4x-lstm-%s-%s-merge-0-run-%s-cuda5-sg-{epoch:03d}-{loss:.4f}.hdf5\"%(l1,l2,runno)\n",
    "models,history = RunModel(model_setup,filepath,verbose=1)    "
   ]
  },
  {
   "cell_type": "markdown",
   "metadata": {},
   "source": [
    "### Do predictions\n",
    "\n",
    "This block runs the calculations and must be updated with the prefereed models. The generation method has been setup with a small sample of generated SMILES. Modify the size for larger generation. Select your models, update your directories, start, end, batchsize and launch the generation."
   ]
  },
  {
   "cell_type": "code",
   "execution_count": null,
   "metadata": {},
   "outputs": [],
   "source": [
    "fnames = [\n",
    "    \"model1\",\n",
    "    \"model2\",\n",
    "    \"model3\"\n",
    "]"
   ]
  },
  {
   "cell_type": "code",
   "execution_count": null,
   "metadata": {
    "scrolled": false
   },
   "outputs": [],
   "source": [
    "# Batch size\n",
    "from datetime import datetime\n",
    "for file,setup in fname:\n",
    "    start,batch,end = 0,180,540\n",
    "    model_file = \"models/%s\"%(file)\n",
    "    fout = \"generated/\"+file.replace(\".hdf5\",\"_%09d_%09d.smi\")\n",
    "    gen = setup.InitGenerator(model_file)\n",
    "    while start < end:\n",
    "        now = datetime.now()\n",
    "        mols = gen.Predict(ncollect=batch)\n",
    "        now2 = datetime.now()\n",
    "        ios = fout%(start,start+batch)\n",
    "        with open(ios,\"w\") as f:\n",
    "            _ = [f.write(\"%s\\n\"%(smi)) for smi in mols]\n",
    "        now3 = datetime.now()\n",
    "        diff1 = now2-now\n",
    "        diff2 = now3-now2\n",
    "        diff1 = diff1.seconds + 1e-6*diff1.microseconds\n",
    "        diff2 = diff2.seconds + 1e-6*diff2.microseconds\n",
    "        start += batch\n",
    "        print(\"Written %s Gen=%.3f Writing=%.3f\"%(f,diff1,diff2))\n",
    "        start += batch"
   ]
  },
  {
   "cell_type": "code",
   "execution_count": null,
   "metadata": {},
   "outputs": [],
   "source": []
  }
 ],
 "metadata": {
  "kernelspec": {
   "display_name": "Python 3",
   "language": "python",
   "name": "python3"
  },
  "language_info": {
   "codemirror_mode": {
    "name": "ipython",
    "version": 3
   },
   "file_extension": ".py",
   "mimetype": "text/x-python",
   "name": "python",
   "nbconvert_exporter": "python",
   "pygments_lexer": "ipython3",
   "version": "3.7.3"
  }
 },
 "nbformat": 4,
 "nbformat_minor": 2
}
